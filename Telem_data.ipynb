{
 "cells": [
  {
   "cell_type": "code",
   "execution_count": null,
   "id": "451dd9c0",
   "metadata": {},
   "outputs": [],
   "source": [
    "#telem data\n",
    "\n",
    "from pymavlink import mavutil\n",
    "import time\n",
    "\n",
    "# Connect to the Pixhawk (update port and baud if necessary)\n",
    "connection = mavutil.mavlink_connection('/dev/ttyUSB0', baud=57600)\n",
    "\n",
    "# Wait for heartbeat to ensure communication is established\n",
    "print(\"Waiting for heartbeat...\")\n",
    "connection.wait_heartbeat()\n",
    "print(f\"Heartbeat received from system {connection.target_system}, component {connection.target_component}\")\n",
    "\n",
    "print(\"\\nReading telemetry data (press Ctrl+C to stop):\\n\")\n",
    "\n",
    "# Continuous loop to read telemetry data\n",
    "while True:\n",
    "    # Receive only GLOBAL_POSITION_INT messages\n",
    "    msg = connection.recv_match(type='GLOBAL_POSITION_INT', blocking=True)\n",
    "\n",
    "    # Extract and convert relevant data\n",
    "    altitude = msg.relative_alt / 1000.0    # in meters\n",
    "    latitude = msg.lat / 1e7                # in degrees\n",
    "    longitude = msg.lon / 1e7               # in degrees\n",
    "\n",
    "    # Display data\n",
    "    print(f\"Altitude: {altitude:.2f} m | Latitude: {latitude:.7f} | Longitude: {longitude:.7f}\")\n",
    "\n",
    "    # Delay between readings\n",
    "    time.sleep(1)\n"
   ]
  }
 ],
 "metadata": {
  "language_info": {
   "name": "python"
  }
 },
 "nbformat": 4,
 "nbformat_minor": 5
}
