{
 "cells": [
  {
   "cell_type": "code",
   "execution_count": null,
   "id": "90ff0e6f",
   "metadata": {},
   "outputs": [],
   "source": [
    "#give protocols to move in any direction by changing vx,vy,vz\n",
    "from pymavlink import mavutil\n",
    "import time\n",
    "\n",
    "connection = mavutil.mavlink_connection('/dev/ttyUSB0', baud=57600)\n",
    "connection.wait_heartbeat()\n",
    "\n",
    "def send_velocity(vx, vy, vz):\n",
    "    connection.mav.set_position_target_local_ned_send(\n",
    "        int(time.time() * 1e6),\n",
    "        connection.target_system,\n",
    "        connection.target_component,\n",
    "        mavutil.mavlink.MAV_FRAME_LOCAL_NED,\n",
    "        0b0000111111000111,\n",
    "        0, 0, 0,\n",
    "        vx, vy, vz,\n",
    "        0, 0, 0,\n",
    "        0, 0\n",
    "    )\n",
    "\n",
    "print(\"Moving forward...\")\n",
    "for _ in range(20):\n",
    "    send_velocity(1.0, 0, 0)\n",
    "    time.sleep(0.1)\n",
    "\n",
    "#for hovering we can keep vx,vy,vz=0 "
   ]
  }
 ],
 "metadata": {
  "language_info": {
   "name": "python"
  }
 },
 "nbformat": 4,
 "nbformat_minor": 5
}
