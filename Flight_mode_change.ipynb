{
 "cells": [
  {
   "cell_type": "code",
   "execution_count": null,
   "id": "cc657657",
   "metadata": {},
   "outputs": [],
   "source": [
    "#change flight mode\n",
    "from pymavlink import mavutil\n",
    "\n",
    "mode = 'GUIDED'  \n",
    "connection = mavutil.mavlink_connection('/dev/ttyUSB0', baud=57600)\n",
    "connection.wait_heartbeat()\n",
    "\n",
    "mode_id = connection.mode_mapping()[mode]\n",
    "connection.mav.set_mode_send(\n",
    "    connection.target_system,\n",
    "    mavutil.mavlink.MAV_MODE_FLAG_CUSTOM_MODE_ENABLED,\n",
    "    mode_id\n",
    ")\n",
    "print(f\"Mode changed to {mode}\")\n"
   ]
  }
 ],
 "metadata": {
  "language_info": {
   "name": "python"
  }
 },
 "nbformat": 4,
 "nbformat_minor": 5
}
