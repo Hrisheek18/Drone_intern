{
 "cells": [
  {
   "cell_type": "code",
   "execution_count": null,
   "id": "6f57f421",
   "metadata": {},
   "outputs": [],
   "source": [
    "import time\n",
    "from pymavlink import mavutil\n",
    "\n",
    "connection = mavutil.mavlink_connection('/dev/serial0', baud=921600)\n",
    "\n",
    "connection.wait_heartbeat()\n",
    "print(\"Heartbeat from system (system %u component %u)\" % (connection.target_system, connection.target_component))\n",
    "\n",
    "# Arm the vehicle\n",
    "print(\"Arming motors\")\n",
    "msg = connection.mav.command_long_encode(\n",
    "    connection.target_system,\n",
    "    connection.target_component,\n",
    "    mavutil.mavlink.MAV_CMD_COMPONENT_ARM_DISARM,\n",
    "    0,1, 0, 0, 0, 0, 0, 0\n",
    ")\n",
    "connection.write(msg)\n",
    "\n",
    "time.sleep(5)\n",
    "\n",
    "# Disarm the vehicle\n",
    "print(\"Disarming motors\")\n",
    "msg = connection.mav.command_long_encode(\n",
    "    connection.target_system,\n",
    "    connection.target_component,\n",
    "    mavutil.mavlink.MAV_CMD_COMPONENT_ARM_DISARM,\n",
    "    0,0,0, 0, 0, 0, 0, 0\n",
    ")\n",
    "connection.write(msg)\n",
    "\n",
    "# Close the connection (optional)\n",
    "connection.close()"
   ]
  }
 ],
 "metadata": {
  "language_info": {
   "name": "python"
  }
 },
 "nbformat": 4,
 "nbformat_minor": 5
}
