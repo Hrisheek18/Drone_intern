{
 "cells": [
  {
   "cell_type": "code",
   "execution_count": null,
   "id": "3427cf27",
   "metadata": {},
   "outputs": [],
   "source": [
    "#for land\n",
    "from pymavlink import mavutil\n",
    "\n",
    "connection = mavutil.mavlink_connection('/dev/ttyUSB0', baud=57600)\n",
    "connection.wait_heartbeat()\n",
    "\n",
    "connection.mav.command_long_send(\n",
    "    connection.target_system,\n",
    "    connection.target_component,\n",
    "    mavutil.mavlink.MAV_CMD_NAV_LAND,\n",
    "    0,\n",
    "    0, 0, 0, 0, 0, 0, 0\n",
    ")\n",
    "print(\"Landing command sent\")\n"
   ]
  }
 ],
 "metadata": {
  "language_info": {
   "name": "python"
  }
 },
 "nbformat": 4,
 "nbformat_minor": 5
}
