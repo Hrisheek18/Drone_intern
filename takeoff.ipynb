{
 "cells": [
  {
   "cell_type": "code",
   "execution_count": null,
   "id": "b849bd94",
   "metadata": {},
   "outputs": [],
   "source": [
    "#for takeoff\n",
    "from pymavlink import mavutil\n",
    "\n",
    "altitude = 5  \n",
    "connection = mavutil.mavlink_connection('/dev/ttyUSB0', baud=57600)\n",
    "connection.wait_heartbeat()\n",
    "\n",
    "connection.mav.command_long_send(\n",
    "    connection.target_system,\n",
    "    connection.target_component,\n",
    "    mavutil.mavlink.MAV_CMD_NAV_TAKEOFF,\n",
    "    0,\n",
    "    0, 0, 0, 0, 0, 0, altitude\n",
    ")\n",
    "print(f\"Takeoff command to {altitude}m sent\")\n"
   ]
  }
 ],
 "metadata": {
  "language_info": {
   "name": "python"
  }
 },
 "nbformat": 4,
 "nbformat_minor": 5
}
