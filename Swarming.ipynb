{
 "cells": [
  {
   "cell_type": "code",
   "execution_count": null,
   "id": "8128bd75",
   "metadata": {},
   "outputs": [],
   "source": [
    "#swarming\n",
    "\n",
    "# swarm_simple.py\n",
    "from pymavlink import mavutil\n",
    "import time\n",
    "\n",
    "drones = {\n",
    "    'drone1': mavutil.mavlink_connection('/dev/ttyUSB0', baud=57600),\n",
    "    'drone2': mavutil.mavlink_connection('/dev/ttyUSB1', baud=57600),\n",
    "}\n",
    "for m in drones.values():\n",
    "    m.wait_heartbeat()\n",
    "print(\"Connected to both drones\")\n",
    "\n",
    "# Arm & GUIDED\n",
    "for name, m in drones.items():\n",
    "    m.mav.command_long_send(m.target_system, m.target_component, mavutil.mavlink.MAV_CMD_COMPONENT_ARM_DISARM, 0, 1,0,0,0,0,0,0)\n",
    "    m.mav.set_mode_send(m.target_system, mavutil.mavlink.MAV_MODE_FLAG_CUSTOM_MODE_ENABLED, m.mode_mapping()['GUIDED'])\n",
    "time.sleep(5)\n",
    "\n",
    "# Assign formation targets (relative offsets)\n",
    "targets = {\n",
    "    'drone1': (0, 0, -10),\n",
    "    'drone2': (0, 10, -10),\n",
    "}\n",
    "def goto_offset(m, dx, dy, dz):\n",
    "    m.mav.set_position_target_local_ned_send(\n",
    "        int(time.time()*1e6), m.target_system, m.target_component,\n",
    "        mavutil.mavlink.MAV_FRAME_LOCAL_NED, 0b0000111111000111,\n",
    "        dx, dy, dz, 0,0,0,0,0,0,0,0\n",
    "    )\n",
    "\n",
    "for name, (dx, dy, dz) in targets.items():\n",
    "    goto_offset(drones[name], dx, dy, dz)\n",
    "\n",
    "print(\"Formation target sent\")\n",
    "time.sleep(20)\n",
    "\n",
    "# Disarm\n",
    "for m in drones.values():\n",
    "    m.mav.command_long_send(m.target_system, m.target_component, mavutil.mavlink.MAV_CMD_COMPONENT_ARM_DISARM, 0, 0,0,0,0,0,0,0)\n",
    "print(\"SWARM: Disarm sent\")\n"
   ]
  }
 ],
 "metadata": {
  "language_info": {
   "name": "python"
  }
 },
 "nbformat": 4,
 "nbformat_minor": 5
}
