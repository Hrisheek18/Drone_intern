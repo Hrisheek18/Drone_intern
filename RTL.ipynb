{
 "cells": [
  {
   "cell_type": "code",
   "execution_count": null,
   "id": "545914be",
   "metadata": {},
   "outputs": [],
   "source": [
    "#RTL\n",
    "from pymavlink import mavutil\n",
    "\n",
    "connection = mavutil.mavlink_connection('/dev/ttyUSB0', baud=57600)\n",
    "connection.wait_heartbeat()\n",
    "\n",
    "connection.set_mode_apm(\"RTL\")\n",
    "print(\"Return to Launch mode set\")\n"
   ]
  }
 ],
 "metadata": {
  "language_info": {
   "name": "python"
  }
 },
 "nbformat": 4,
 "nbformat_minor": 5
}
