{
 "cells": [
  {
   "cell_type": "code",
   "execution_count": null,
   "id": "fe393a11",
   "metadata": {},
   "outputs": [],
   "source": [
    "#for arming\n",
    "\n",
    "from pymavlink import mavutil\n",
    "\n",
    "connection = mavutil.mavlink_connection('/dev/ttyUSB0', baud=57600)\n",
    "connection.wait_heartbeat()\n",
    "\n",
    "connection.mav.command_long_send(\n",
    "    connection.target_system,\n",
    "    connection.target_component,\n",
    "    mavutil.mavlink.MAV_CMD_COMPONENT_ARM_DISARM,\n",
    "    0,\n",
    "    1, 0, 0, 0, 0, 0, 0\n",
    ")\n",
    "print(\"Drone Arming Sent\")\n"
   ]
  }
 ],
 "metadata": {
  "language_info": {
   "name": "python"
  }
 },
 "nbformat": 4,
 "nbformat_minor": 5
}
